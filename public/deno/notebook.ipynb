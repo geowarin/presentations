{
 "cells": [
  {
   "cell_type": "code",
   "execution_count": 2,
   "metadata": {},
   "outputs": [
    {
     "name": "stdout",
     "output_type": "stream",
     "text": [
      "toto\n"
     ]
    }
   ],
   "source": [
    "console.log(\"toto\")"
   ]
  },
  {
   "cell_type": "code",
   "execution_count": 10,
   "metadata": {},
   "outputs": [
    {
     "data": {
      "text/plain": [
       "\u001b[32mHello world\u001b[39m"
      ]
     },
     "metadata": {},
     "output_type": "display_data"
    }
   ],
   "source": [
    "import * as colors from \"jsr:@std/fmt/colors\";\n",
    "\n",
    "await Deno.jupyter.display({\n",
    "    // \"text/plain\": \"Hello, world!\",\n",
    "    // \"text/html\": \"<h1>Hello, world!</h1>\",\n",
    "    // \"text/markdown\": \"# Hello, world!\",\n",
    "    \"text/plain\": colors.green(\"Hello world\"),\n",
    "  }, { raw: true });\n",
    "  "
   ]
  },
  {
   "cell_type": "code",
   "execution_count": 8,
   "metadata": {},
   "outputs": [
    {
     "data": {
      "text/html": [
       "<h1>Hello, world!</h1>\n",
       "<h2>From Deno kernel</h2>\n",
       "<p>Lorem ipsum <i>dolor</i> <b>sit</b> <u>amet</u></p>"
      ]
     },
     "execution_count": 8,
     "metadata": {},
     "output_type": "execute_result"
    }
   ],
   "source": [
    "Deno.jupyter.html`<h1>Hello, world!</h1>\n",
    "<h2>From Deno kernel</h2>\n",
    "<p>Lorem ipsum <i>dolor</i> <b>sit</b> <u>amet</u></p>`;"
   ]
  },
  {
   "cell_type": "markdown",
   "metadata": {
    "slideshow": {
     "slide_type": "fragment"
    }
   },
   "source": [
    "lll"
   ]
  }
 ],
 "metadata": {
  "kernelspec": {
   "display_name": "Deno",
   "language": "typescript",
   "name": "deno"
  },
  "language_info": {
   "codemirror_mode": "typescript",
   "file_extension": ".ts",
   "mimetype": "text/x.typescript",
   "name": "typescript",
   "nbconvert_exporter": "script",
   "pygments_lexer": "typescript",
   "version": "5.7.3"
  }
 },
 "nbformat": 4,
 "nbformat_minor": 2
}
